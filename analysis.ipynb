{
 "cells": [
  {
   "cell_type": "code",
   "execution_count": 1,
   "id": "8cb6420f",
   "metadata": {},
   "outputs": [],
   "source": [
    "import pandas as pd"
   ]
  },
  {
   "cell_type": "code",
   "execution_count": 2,
   "id": "c8016096",
   "metadata": {},
   "outputs": [
    {
     "data": {
      "text/html": [
       "<div>\n",
       "<style scoped>\n",
       "    .dataframe tbody tr th:only-of-type {\n",
       "        vertical-align: middle;\n",
       "    }\n",
       "\n",
       "    .dataframe tbody tr th {\n",
       "        vertical-align: top;\n",
       "    }\n",
       "\n",
       "    .dataframe thead th {\n",
       "        text-align: right;\n",
       "    }\n",
       "</style>\n",
       "<table border=\"1\" class=\"dataframe\">\n",
       "  <thead>\n",
       "    <tr style=\"text-align: right;\">\n",
       "      <th></th>\n",
       "      <th>No</th>\n",
       "      <th>First Name</th>\n",
       "      <th>Last Name</th>\n",
       "      <th>Gender</th>\n",
       "      <th>Start Date</th>\n",
       "      <th>Years</th>\n",
       "      <th>Department</th>\n",
       "      <th>Country</th>\n",
       "      <th>Center</th>\n",
       "      <th>Monthly Salary</th>\n",
       "      <th>Annual Salary</th>\n",
       "      <th>Job Rate</th>\n",
       "      <th>Sick Leaves</th>\n",
       "      <th>Unpaid Leaves</th>\n",
       "      <th>Overtime Hours</th>\n",
       "    </tr>\n",
       "  </thead>\n",
       "  <tbody>\n",
       "    <tr>\n",
       "      <th>0</th>\n",
       "      <td>1</td>\n",
       "      <td>Ghadir</td>\n",
       "      <td>Hmshw</td>\n",
       "      <td>Male</td>\n",
       "      <td>4/4/2018</td>\n",
       "      <td>7</td>\n",
       "      <td>Quality Control</td>\n",
       "      <td>Egypt</td>\n",
       "      <td>West</td>\n",
       "      <td>1560</td>\n",
       "      <td>18720</td>\n",
       "      <td>3.0</td>\n",
       "      <td>1</td>\n",
       "      <td>0</td>\n",
       "      <td>183</td>\n",
       "    </tr>\n",
       "    <tr>\n",
       "      <th>1</th>\n",
       "      <td>2</td>\n",
       "      <td>Omar</td>\n",
       "      <td>Hishan</td>\n",
       "      <td>Male</td>\n",
       "      <td>21/5/2020</td>\n",
       "      <td>5</td>\n",
       "      <td>Quality Control</td>\n",
       "      <td>Saudi Arabia</td>\n",
       "      <td>West</td>\n",
       "      <td>3247</td>\n",
       "      <td>38964</td>\n",
       "      <td>1.0</td>\n",
       "      <td>0</td>\n",
       "      <td>5</td>\n",
       "      <td>198</td>\n",
       "    </tr>\n",
       "    <tr>\n",
       "      <th>2</th>\n",
       "      <td>3</td>\n",
       "      <td>Ailya</td>\n",
       "      <td>Sharaf</td>\n",
       "      <td>Female</td>\n",
       "      <td>28/9/2017</td>\n",
       "      <td>7</td>\n",
       "      <td>Major Mfg Projects</td>\n",
       "      <td>Saudi Arabia</td>\n",
       "      <td>West</td>\n",
       "      <td>2506</td>\n",
       "      <td>30072</td>\n",
       "      <td>2.0</td>\n",
       "      <td>0</td>\n",
       "      <td>3</td>\n",
       "      <td>192</td>\n",
       "    </tr>\n",
       "    <tr>\n",
       "      <th>3</th>\n",
       "      <td>4</td>\n",
       "      <td>Lwiy</td>\n",
       "      <td>Qbany</td>\n",
       "      <td>Male</td>\n",
       "      <td>14/8/2018</td>\n",
       "      <td>7</td>\n",
       "      <td>Manufacturing</td>\n",
       "      <td>United Arab Emirates</td>\n",
       "      <td>Main</td>\n",
       "      <td>1828</td>\n",
       "      <td>21936</td>\n",
       "      <td>3.0</td>\n",
       "      <td>0</td>\n",
       "      <td>0</td>\n",
       "      <td>7</td>\n",
       "    </tr>\n",
       "    <tr>\n",
       "      <th>4</th>\n",
       "      <td>5</td>\n",
       "      <td>Ahmad</td>\n",
       "      <td>Bikri</td>\n",
       "      <td>Male</td>\n",
       "      <td>11/3/2020</td>\n",
       "      <td>5</td>\n",
       "      <td>Manufacturing</td>\n",
       "      <td>Egypt</td>\n",
       "      <td>Main</td>\n",
       "      <td>970</td>\n",
       "      <td>11640</td>\n",
       "      <td>5.0</td>\n",
       "      <td>0</td>\n",
       "      <td>5</td>\n",
       "      <td>121</td>\n",
       "    </tr>\n",
       "    <tr>\n",
       "      <th>...</th>\n",
       "      <td>...</td>\n",
       "      <td>...</td>\n",
       "      <td>...</td>\n",
       "      <td>...</td>\n",
       "      <td>...</td>\n",
       "      <td>...</td>\n",
       "      <td>...</td>\n",
       "      <td>...</td>\n",
       "      <td>...</td>\n",
       "      <td>...</td>\n",
       "      <td>...</td>\n",
       "      <td>...</td>\n",
       "      <td>...</td>\n",
       "      <td>...</td>\n",
       "      <td>...</td>\n",
       "    </tr>\n",
       "    <tr>\n",
       "      <th>684</th>\n",
       "      <td>685</td>\n",
       "      <td>Sari</td>\n",
       "      <td>Hanna</td>\n",
       "      <td>Male</td>\n",
       "      <td>26/5/2020</td>\n",
       "      <td>5</td>\n",
       "      <td>Marketing</td>\n",
       "      <td>Lebanon</td>\n",
       "      <td>South</td>\n",
       "      <td>1452</td>\n",
       "      <td>17424</td>\n",
       "      <td>2.0</td>\n",
       "      <td>0</td>\n",
       "      <td>3</td>\n",
       "      <td>1</td>\n",
       "    </tr>\n",
       "    <tr>\n",
       "      <th>685</th>\n",
       "      <td>686</td>\n",
       "      <td>Eubayda</td>\n",
       "      <td>Kayd</td>\n",
       "      <td>Male</td>\n",
       "      <td>3/6/2020</td>\n",
       "      <td>5</td>\n",
       "      <td>Facilities/Engineering</td>\n",
       "      <td>Egypt</td>\n",
       "      <td>North</td>\n",
       "      <td>3237</td>\n",
       "      <td>38844</td>\n",
       "      <td>3.0</td>\n",
       "      <td>1</td>\n",
       "      <td>0</td>\n",
       "      <td>4</td>\n",
       "    </tr>\n",
       "    <tr>\n",
       "      <th>686</th>\n",
       "      <td>687</td>\n",
       "      <td>Khalil</td>\n",
       "      <td>Alkalu</td>\n",
       "      <td>Male</td>\n",
       "      <td>11/7/2017</td>\n",
       "      <td>8</td>\n",
       "      <td>Facilities/Engineering</td>\n",
       "      <td>Egypt</td>\n",
       "      <td>North</td>\n",
       "      <td>2819</td>\n",
       "      <td>33828</td>\n",
       "      <td>5.0</td>\n",
       "      <td>0</td>\n",
       "      <td>0</td>\n",
       "      <td>0</td>\n",
       "    </tr>\n",
       "    <tr>\n",
       "      <th>687</th>\n",
       "      <td>688</td>\n",
       "      <td>Muhamad</td>\n",
       "      <td>Shrbjy</td>\n",
       "      <td>Male</td>\n",
       "      <td>30/5/2018</td>\n",
       "      <td>7</td>\n",
       "      <td>Creative</td>\n",
       "      <td>Egypt</td>\n",
       "      <td>North</td>\n",
       "      <td>2069</td>\n",
       "      <td>24828</td>\n",
       "      <td>3.0</td>\n",
       "      <td>0</td>\n",
       "      <td>0</td>\n",
       "      <td>10</td>\n",
       "    </tr>\n",
       "    <tr>\n",
       "      <th>688</th>\n",
       "      <td>689</td>\n",
       "      <td>Abd Albasit</td>\n",
       "      <td>AlAhmar</td>\n",
       "      <td>Male</td>\n",
       "      <td>5/8/2020</td>\n",
       "      <td>5</td>\n",
       "      <td>IT</td>\n",
       "      <td>United Arab Emirates</td>\n",
       "      <td>North</td>\n",
       "      <td>2606</td>\n",
       "      <td>31272</td>\n",
       "      <td>5.0</td>\n",
       "      <td>0</td>\n",
       "      <td>0</td>\n",
       "      <td>0</td>\n",
       "    </tr>\n",
       "  </tbody>\n",
       "</table>\n",
       "<p>689 rows × 15 columns</p>\n",
       "</div>"
      ],
      "text/plain": [
       "      No   First Name Last Name  Gender Start Date  Years  \\\n",
       "0      1       Ghadir     Hmshw    Male   4/4/2018      7   \n",
       "1      2         Omar    Hishan    Male  21/5/2020      5   \n",
       "2      3        Ailya    Sharaf  Female  28/9/2017      7   \n",
       "3      4         Lwiy     Qbany    Male  14/8/2018      7   \n",
       "4      5        Ahmad     Bikri    Male  11/3/2020      5   \n",
       "..   ...          ...       ...     ...        ...    ...   \n",
       "684  685         Sari     Hanna    Male  26/5/2020      5   \n",
       "685  686      Eubayda      Kayd    Male   3/6/2020      5   \n",
       "686  687       Khalil    Alkalu    Male  11/7/2017      8   \n",
       "687  688      Muhamad    Shrbjy    Male  30/5/2018      7   \n",
       "688  689  Abd Albasit   AlAhmar    Male   5/8/2020      5   \n",
       "\n",
       "                 Department               Country Center  Monthly Salary  \\\n",
       "0           Quality Control                 Egypt   West            1560   \n",
       "1           Quality Control          Saudi Arabia   West            3247   \n",
       "2        Major Mfg Projects          Saudi Arabia   West            2506   \n",
       "3             Manufacturing  United Arab Emirates   Main            1828   \n",
       "4             Manufacturing                 Egypt   Main             970   \n",
       "..                      ...                   ...    ...             ...   \n",
       "684               Marketing               Lebanon  South            1452   \n",
       "685  Facilities/Engineering                 Egypt  North            3237   \n",
       "686  Facilities/Engineering                 Egypt  North            2819   \n",
       "687                Creative                 Egypt  North            2069   \n",
       "688                      IT  United Arab Emirates  North            2606   \n",
       "\n",
       "     Annual Salary  Job Rate  Sick Leaves  Unpaid Leaves  Overtime Hours  \n",
       "0            18720       3.0            1              0             183  \n",
       "1            38964       1.0            0              5             198  \n",
       "2            30072       2.0            0              3             192  \n",
       "3            21936       3.0            0              0               7  \n",
       "4            11640       5.0            0              5             121  \n",
       "..             ...       ...          ...            ...             ...  \n",
       "684          17424       2.0            0              3               1  \n",
       "685          38844       3.0            1              0               4  \n",
       "686          33828       5.0            0              0               0  \n",
       "687          24828       3.0            0              0              10  \n",
       "688          31272       5.0            0              0               0  \n",
       "\n",
       "[689 rows x 15 columns]"
      ]
     },
     "execution_count": 2,
     "metadata": {},
     "output_type": "execute_result"
    }
   ],
   "source": [
    "df = pd.read_csv(\"Employees.csv\")\n",
    "df"
   ]
  },
  {
   "cell_type": "code",
   "execution_count": 4,
   "id": "a4d184e7",
   "metadata": {},
   "outputs": [
    {
     "data": {
      "text/html": [
       "<div>\n",
       "<style scoped>\n",
       "    .dataframe tbody tr th:only-of-type {\n",
       "        vertical-align: middle;\n",
       "    }\n",
       "\n",
       "    .dataframe tbody tr th {\n",
       "        vertical-align: top;\n",
       "    }\n",
       "\n",
       "    .dataframe thead th {\n",
       "        text-align: right;\n",
       "    }\n",
       "</style>\n",
       "<table border=\"1\" class=\"dataframe\">\n",
       "  <thead>\n",
       "    <tr style=\"text-align: right;\">\n",
       "      <th></th>\n",
       "      <th>No</th>\n",
       "      <th>First Name</th>\n",
       "      <th>Last Name</th>\n",
       "      <th>Gender</th>\n",
       "      <th>Start Date</th>\n",
       "      <th>Years</th>\n",
       "      <th>Department</th>\n",
       "      <th>Country</th>\n",
       "      <th>Center</th>\n",
       "      <th>Monthly Salary</th>\n",
       "      <th>Annual Salary</th>\n",
       "      <th>Job Rate</th>\n",
       "      <th>Sick Leaves</th>\n",
       "      <th>Unpaid Leaves</th>\n",
       "      <th>Overtime Hours</th>\n",
       "    </tr>\n",
       "  </thead>\n",
       "  <tbody>\n",
       "    <tr>\n",
       "      <th>674</th>\n",
       "      <td>675</td>\n",
       "      <td>Razzan</td>\n",
       "      <td>Alhusayni</td>\n",
       "      <td>Female</td>\n",
       "      <td>28/10/2019</td>\n",
       "      <td>5</td>\n",
       "      <td>Quality Assurance</td>\n",
       "      <td>Egypt</td>\n",
       "      <td>North</td>\n",
       "      <td>1898</td>\n",
       "      <td>22776</td>\n",
       "      <td>4.5</td>\n",
       "      <td>1</td>\n",
       "      <td>0</td>\n",
       "      <td>2</td>\n",
       "    </tr>\n",
       "    <tr>\n",
       "      <th>675</th>\n",
       "      <td>676</td>\n",
       "      <td>Ghassan</td>\n",
       "      <td>Aljamal</td>\n",
       "      <td>Male</td>\n",
       "      <td>24/6/2018</td>\n",
       "      <td>7</td>\n",
       "      <td>Manufacturing</td>\n",
       "      <td>Egypt</td>\n",
       "      <td>South</td>\n",
       "      <td>2778</td>\n",
       "      <td>33336</td>\n",
       "      <td>3.0</td>\n",
       "      <td>2</td>\n",
       "      <td>0</td>\n",
       "      <td>20</td>\n",
       "    </tr>\n",
       "    <tr>\n",
       "      <th>676</th>\n",
       "      <td>677</td>\n",
       "      <td>Omar</td>\n",
       "      <td>Kahulus</td>\n",
       "      <td>Male</td>\n",
       "      <td>4/1/2018</td>\n",
       "      <td>7</td>\n",
       "      <td>Quality Assurance</td>\n",
       "      <td>Syria</td>\n",
       "      <td>North</td>\n",
       "      <td>2880</td>\n",
       "      <td>34560</td>\n",
       "      <td>2.0</td>\n",
       "      <td>4</td>\n",
       "      <td>0</td>\n",
       "      <td>5</td>\n",
       "    </tr>\n",
       "    <tr>\n",
       "      <th>677</th>\n",
       "      <td>678</td>\n",
       "      <td>Amjad</td>\n",
       "      <td>Nasir</td>\n",
       "      <td>Male</td>\n",
       "      <td>14/3/2019</td>\n",
       "      <td>6</td>\n",
       "      <td>Research Center</td>\n",
       "      <td>Saudi Arabia</td>\n",
       "      <td>Main</td>\n",
       "      <td>2815</td>\n",
       "      <td>33780</td>\n",
       "      <td>3.0</td>\n",
       "      <td>6</td>\n",
       "      <td>0</td>\n",
       "      <td>2</td>\n",
       "    </tr>\n",
       "    <tr>\n",
       "      <th>678</th>\n",
       "      <td>679</td>\n",
       "      <td>Iman</td>\n",
       "      <td>Ghrz Aldiyn</td>\n",
       "      <td>Female</td>\n",
       "      <td>14/12/2018</td>\n",
       "      <td>6</td>\n",
       "      <td>Green Building</td>\n",
       "      <td>Syria</td>\n",
       "      <td>East</td>\n",
       "      <td>1134</td>\n",
       "      <td>13608</td>\n",
       "      <td>2.0</td>\n",
       "      <td>0</td>\n",
       "      <td>0</td>\n",
       "      <td>14</td>\n",
       "    </tr>\n",
       "    <tr>\n",
       "      <th>679</th>\n",
       "      <td>680</td>\n",
       "      <td>Alysia</td>\n",
       "      <td>Alyaghshiu</td>\n",
       "      <td>Female</td>\n",
       "      <td>19/10/2019</td>\n",
       "      <td>5</td>\n",
       "      <td>Training</td>\n",
       "      <td>United Arab Emirates</td>\n",
       "      <td>West</td>\n",
       "      <td>3334</td>\n",
       "      <td>40008</td>\n",
       "      <td>1.0</td>\n",
       "      <td>0</td>\n",
       "      <td>0</td>\n",
       "      <td>4</td>\n",
       "    </tr>\n",
       "    <tr>\n",
       "      <th>680</th>\n",
       "      <td>681</td>\n",
       "      <td>Ayham</td>\n",
       "      <td>Alqadi</td>\n",
       "      <td>Male</td>\n",
       "      <td>30/5/2020</td>\n",
       "      <td>5</td>\n",
       "      <td>Manufacturing</td>\n",
       "      <td>Syria</td>\n",
       "      <td>East</td>\n",
       "      <td>2574</td>\n",
       "      <td>30888</td>\n",
       "      <td>3.0</td>\n",
       "      <td>3</td>\n",
       "      <td>0</td>\n",
       "      <td>4</td>\n",
       "    </tr>\n",
       "    <tr>\n",
       "      <th>681</th>\n",
       "      <td>682</td>\n",
       "      <td>Diea</td>\n",
       "      <td>Shuelan</td>\n",
       "      <td>Male</td>\n",
       "      <td>6/3/2019</td>\n",
       "      <td>6</td>\n",
       "      <td>Manufacturing</td>\n",
       "      <td>Egypt</td>\n",
       "      <td>West</td>\n",
       "      <td>1123</td>\n",
       "      <td>13476</td>\n",
       "      <td>1.0</td>\n",
       "      <td>0</td>\n",
       "      <td>0</td>\n",
       "      <td>7</td>\n",
       "    </tr>\n",
       "    <tr>\n",
       "      <th>682</th>\n",
       "      <td>683</td>\n",
       "      <td>Husam</td>\n",
       "      <td>Alsaed</td>\n",
       "      <td>Male</td>\n",
       "      <td>12/5/2016</td>\n",
       "      <td>9</td>\n",
       "      <td>Account Management</td>\n",
       "      <td>United Arab Emirates</td>\n",
       "      <td>Main</td>\n",
       "      <td>2147</td>\n",
       "      <td>25764</td>\n",
       "      <td>3.0</td>\n",
       "      <td>0</td>\n",
       "      <td>4</td>\n",
       "      <td>2</td>\n",
       "    </tr>\n",
       "    <tr>\n",
       "      <th>683</th>\n",
       "      <td>684</td>\n",
       "      <td>Asd</td>\n",
       "      <td>Bwfaeur</td>\n",
       "      <td>Male</td>\n",
       "      <td>27/6/2017</td>\n",
       "      <td>8</td>\n",
       "      <td>IT</td>\n",
       "      <td>Egypt</td>\n",
       "      <td>Main</td>\n",
       "      <td>2929</td>\n",
       "      <td>35148</td>\n",
       "      <td>4.5</td>\n",
       "      <td>0</td>\n",
       "      <td>0</td>\n",
       "      <td>2</td>\n",
       "    </tr>\n",
       "    <tr>\n",
       "      <th>684</th>\n",
       "      <td>685</td>\n",
       "      <td>Sari</td>\n",
       "      <td>Hanna</td>\n",
       "      <td>Male</td>\n",
       "      <td>26/5/2020</td>\n",
       "      <td>5</td>\n",
       "      <td>Marketing</td>\n",
       "      <td>Lebanon</td>\n",
       "      <td>South</td>\n",
       "      <td>1452</td>\n",
       "      <td>17424</td>\n",
       "      <td>2.0</td>\n",
       "      <td>0</td>\n",
       "      <td>3</td>\n",
       "      <td>1</td>\n",
       "    </tr>\n",
       "    <tr>\n",
       "      <th>685</th>\n",
       "      <td>686</td>\n",
       "      <td>Eubayda</td>\n",
       "      <td>Kayd</td>\n",
       "      <td>Male</td>\n",
       "      <td>3/6/2020</td>\n",
       "      <td>5</td>\n",
       "      <td>Facilities/Engineering</td>\n",
       "      <td>Egypt</td>\n",
       "      <td>North</td>\n",
       "      <td>3237</td>\n",
       "      <td>38844</td>\n",
       "      <td>3.0</td>\n",
       "      <td>1</td>\n",
       "      <td>0</td>\n",
       "      <td>4</td>\n",
       "    </tr>\n",
       "    <tr>\n",
       "      <th>686</th>\n",
       "      <td>687</td>\n",
       "      <td>Khalil</td>\n",
       "      <td>Alkalu</td>\n",
       "      <td>Male</td>\n",
       "      <td>11/7/2017</td>\n",
       "      <td>8</td>\n",
       "      <td>Facilities/Engineering</td>\n",
       "      <td>Egypt</td>\n",
       "      <td>North</td>\n",
       "      <td>2819</td>\n",
       "      <td>33828</td>\n",
       "      <td>5.0</td>\n",
       "      <td>0</td>\n",
       "      <td>0</td>\n",
       "      <td>0</td>\n",
       "    </tr>\n",
       "    <tr>\n",
       "      <th>687</th>\n",
       "      <td>688</td>\n",
       "      <td>Muhamad</td>\n",
       "      <td>Shrbjy</td>\n",
       "      <td>Male</td>\n",
       "      <td>30/5/2018</td>\n",
       "      <td>7</td>\n",
       "      <td>Creative</td>\n",
       "      <td>Egypt</td>\n",
       "      <td>North</td>\n",
       "      <td>2069</td>\n",
       "      <td>24828</td>\n",
       "      <td>3.0</td>\n",
       "      <td>0</td>\n",
       "      <td>0</td>\n",
       "      <td>10</td>\n",
       "    </tr>\n",
       "    <tr>\n",
       "      <th>688</th>\n",
       "      <td>689</td>\n",
       "      <td>Abd Albasit</td>\n",
       "      <td>AlAhmar</td>\n",
       "      <td>Male</td>\n",
       "      <td>5/8/2020</td>\n",
       "      <td>5</td>\n",
       "      <td>IT</td>\n",
       "      <td>United Arab Emirates</td>\n",
       "      <td>North</td>\n",
       "      <td>2606</td>\n",
       "      <td>31272</td>\n",
       "      <td>5.0</td>\n",
       "      <td>0</td>\n",
       "      <td>0</td>\n",
       "      <td>0</td>\n",
       "    </tr>\n",
       "  </tbody>\n",
       "</table>\n",
       "</div>"
      ],
      "text/plain": [
       "      No   First Name    Last Name  Gender  Start Date  Years  \\\n",
       "674  675       Razzan    Alhusayni  Female  28/10/2019      5   \n",
       "675  676      Ghassan      Aljamal    Male   24/6/2018      7   \n",
       "676  677         Omar      Kahulus    Male    4/1/2018      7   \n",
       "677  678        Amjad        Nasir    Male   14/3/2019      6   \n",
       "678  679         Iman  Ghrz Aldiyn  Female  14/12/2018      6   \n",
       "679  680       Alysia   Alyaghshiu  Female  19/10/2019      5   \n",
       "680  681        Ayham       Alqadi    Male   30/5/2020      5   \n",
       "681  682         Diea      Shuelan    Male    6/3/2019      6   \n",
       "682  683        Husam       Alsaed    Male   12/5/2016      9   \n",
       "683  684          Asd      Bwfaeur    Male   27/6/2017      8   \n",
       "684  685         Sari        Hanna    Male   26/5/2020      5   \n",
       "685  686      Eubayda         Kayd    Male    3/6/2020      5   \n",
       "686  687       Khalil       Alkalu    Male   11/7/2017      8   \n",
       "687  688      Muhamad       Shrbjy    Male   30/5/2018      7   \n",
       "688  689  Abd Albasit      AlAhmar    Male    5/8/2020      5   \n",
       "\n",
       "                 Department               Country Center  Monthly Salary  \\\n",
       "674       Quality Assurance                 Egypt  North            1898   \n",
       "675           Manufacturing                 Egypt  South            2778   \n",
       "676       Quality Assurance                 Syria  North            2880   \n",
       "677         Research Center          Saudi Arabia   Main            2815   \n",
       "678          Green Building                 Syria   East            1134   \n",
       "679                Training  United Arab Emirates   West            3334   \n",
       "680           Manufacturing                 Syria   East            2574   \n",
       "681           Manufacturing                 Egypt   West            1123   \n",
       "682      Account Management  United Arab Emirates   Main            2147   \n",
       "683                      IT                 Egypt   Main            2929   \n",
       "684               Marketing               Lebanon  South            1452   \n",
       "685  Facilities/Engineering                 Egypt  North            3237   \n",
       "686  Facilities/Engineering                 Egypt  North            2819   \n",
       "687                Creative                 Egypt  North            2069   \n",
       "688                      IT  United Arab Emirates  North            2606   \n",
       "\n",
       "     Annual Salary  Job Rate  Sick Leaves  Unpaid Leaves  Overtime Hours  \n",
       "674          22776       4.5            1              0               2  \n",
       "675          33336       3.0            2              0              20  \n",
       "676          34560       2.0            4              0               5  \n",
       "677          33780       3.0            6              0               2  \n",
       "678          13608       2.0            0              0              14  \n",
       "679          40008       1.0            0              0               4  \n",
       "680          30888       3.0            3              0               4  \n",
       "681          13476       1.0            0              0               7  \n",
       "682          25764       3.0            0              4               2  \n",
       "683          35148       4.5            0              0               2  \n",
       "684          17424       2.0            0              3               1  \n",
       "685          38844       3.0            1              0               4  \n",
       "686          33828       5.0            0              0               0  \n",
       "687          24828       3.0            0              0              10  \n",
       "688          31272       5.0            0              0               0  "
      ]
     },
     "execution_count": 4,
     "metadata": {},
     "output_type": "execute_result"
    }
   ],
   "source": [
    "df.tail(15)"
   ]
  },
  {
   "cell_type": "code",
   "execution_count": 5,
   "id": "4a768e14",
   "metadata": {},
   "outputs": [
    {
     "name": "stdout",
     "output_type": "stream",
     "text": [
      "<class 'pandas.core.frame.DataFrame'>\n",
      "RangeIndex: 689 entries, 0 to 688\n",
      "Data columns (total 15 columns):\n",
      " #   Column          Non-Null Count  Dtype  \n",
      "---  ------          --------------  -----  \n",
      " 0   No              689 non-null    int64  \n",
      " 1   First Name      689 non-null    object \n",
      " 2   Last Name       689 non-null    object \n",
      " 3   Gender          689 non-null    object \n",
      " 4   Start Date      689 non-null    object \n",
      " 5   Years           689 non-null    int64  \n",
      " 6   Department      689 non-null    object \n",
      " 7   Country         689 non-null    object \n",
      " 8   Center          689 non-null    object \n",
      " 9   Monthly Salary  689 non-null    int64  \n",
      " 10  Annual Salary   689 non-null    int64  \n",
      " 11  Job Rate        689 non-null    float64\n",
      " 12  Sick Leaves     689 non-null    int64  \n",
      " 13  Unpaid Leaves   689 non-null    int64  \n",
      " 14  Overtime Hours  689 non-null    int64  \n",
      "dtypes: float64(1), int64(7), object(7)\n",
      "memory usage: 80.9+ KB\n"
     ]
    }
   ],
   "source": [
    "df.info()"
   ]
  },
  {
   "cell_type": "code",
   "execution_count": 6,
   "id": "9b5a571c",
   "metadata": {},
   "outputs": [
    {
     "data": {
      "text/plain": [
       "(689, 15)"
      ]
     },
     "execution_count": 6,
     "metadata": {},
     "output_type": "execute_result"
    }
   ],
   "source": [
    "df.shape"
   ]
  },
  {
   "cell_type": "code",
   "execution_count": 7,
   "id": "34a24348",
   "metadata": {},
   "outputs": [
    {
     "data": {
      "text/plain": [
       "No                0\n",
       "First Name        0\n",
       "Last Name         0\n",
       "Gender            0\n",
       "Start Date        0\n",
       "Years             0\n",
       "Department        0\n",
       "Country           0\n",
       "Center            0\n",
       "Monthly Salary    0\n",
       "Annual Salary     0\n",
       "Job Rate          0\n",
       "Sick Leaves       0\n",
       "Unpaid Leaves     0\n",
       "Overtime Hours    0\n",
       "dtype: int64"
      ]
     },
     "execution_count": 7,
     "metadata": {},
     "output_type": "execute_result"
    }
   ],
   "source": [
    "df.isna().sum()"
   ]
  },
  {
   "cell_type": "code",
   "execution_count": 8,
   "id": "dd12f254",
   "metadata": {},
   "outputs": [
    {
     "data": {
      "text/plain": [
       "0"
      ]
     },
     "execution_count": 8,
     "metadata": {},
     "output_type": "execute_result"
    }
   ],
   "source": [
    "df.duplicated().sum()"
   ]
  },
  {
   "cell_type": "code",
   "execution_count": 9,
   "id": "0360072e",
   "metadata": {},
   "outputs": [
    {
     "data": {
      "text/plain": [
       "No   First Name   Last Name    Gender  Start Date  Years  Department              Country               Center  Monthly Salary  Annual Salary  Job Rate  Sick Leaves  Unpaid Leaves  Overtime Hours\n",
       "1    Ghadir       Hmshw        Male    4/4/2018    7      Quality Control         Egypt                 West    1560            18720          3.0       1            0              183               1\n",
       "464  Muhamad      Eaqad        Male    2/4/2019    6      Quality Assurance       Saudi Arabia          Main    1908            22896          1.0       0            5              7                 1\n",
       "456  Kinda        Zaki         Female  9/6/2018    7      Product Development     Lebanon               North   3337            40044          3.0       0            2              6                 1\n",
       "457  Muhamad      Asamh Tubae  Male    20/8/2020   4      Quality Assurance       Egypt                 North   3154            37848          3.0       0            0              6                 1\n",
       "458  Ahmad        Daeas        Male    12/2/2019   6      Facilities/Engineering  Egypt                 Main    1618            19416          3.0       1            0              1                 1\n",
       "                                                                                                                                                                                                      ..\n",
       "232  Antuan       Litansdurfr  Male    9/1/2019    6      Quality Control         Egypt                 Main    2332            27984          5.0       0            0              2                 1\n",
       "233  Rashad       Iidris       Male    26/11/2019  5      Training                Egypt                 Main    812             9744           3.0       0            0              10                1\n",
       "234  Bidralidin   Ahmdghrybw   Male    29/9/2020   4      Manufacturing           Egypt                 North   2651            31812          1.0       0            0              12                1\n",
       "235  Faras        Shaykh       Male    23/3/2019   6      Sales                   United Arab Emirates  West    2331            27972          4.5       0            0              9                 1\n",
       "689  Abd Albasit  AlAhmar      Male    5/8/2020    5      IT                      United Arab Emirates  North   2606            31272          5.0       0            0              0                 1\n",
       "Name: count, Length: 689, dtype: int64"
      ]
     },
     "execution_count": 9,
     "metadata": {},
     "output_type": "execute_result"
    }
   ],
   "source": [
    "df.value_counts()"
   ]
  },
  {
   "cell_type": "code",
   "execution_count": 10,
   "id": "9e786fee",
   "metadata": {},
   "outputs": [
    {
     "data": {
      "text/plain": [
       "Gender\n",
       "Male      449\n",
       "Female    240\n",
       "Name: count, dtype: int64"
      ]
     },
     "execution_count": 10,
     "metadata": {},
     "output_type": "execute_result"
    }
   ],
   "source": [
    "df['Gender'].value_counts()"
   ]
  },
  {
   "cell_type": "code",
   "execution_count": 11,
   "id": "81457fe8",
   "metadata": {},
   "outputs": [],
   "source": [
    "import matplotlib.pyplot as plt"
   ]
  },
  {
   "cell_type": "code",
   "execution_count": 15,
   "id": "099978de",
   "metadata": {},
   "outputs": [
    {
     "data": {
      "image/png": "[encoded data removed]",
      "text/plain": [
       "<Figure size 640x480 with 1 Axes>"
      ]
     },
     "metadata": {},
     "output_type": "display_data"
    }
   ],
   "source": [
    "df['Gender'].value_counts().sort_values(ascending=False).plot(kind='pie')\n",
    "plt.title(\"Pie Chart of Gender\")\n",
    "plt.ylabel('')\n",
    "plt.show()"
   ]
  },
  {
   "cell_type": "code",
   "execution_count": 20,
   "id": "84ad1639",
   "metadata": {},
   "outputs": [
    {
     "data": {
      "image/png": "[encoded data removed]",
      "text/plain": [
       "<Figure size 640x480 with 1 Axes>"
      ]
     },
     "metadata": {},
     "output_type": "display_data"
    }
   ],
   "source": [
    "plt.hist(df['Job Rate'])\n",
    "plt.title(\"Histogram of Job Rate\")\n",
    "plt.xlabel(\"Rate\")\n",
    "plt.ylabel(\"Count\")\n",
    "plt.show()\n"
   ]
  },
  {
   "cell_type": "code",
   "execution_count": 21,
   "id": "0534983f",
   "metadata": {},
   "outputs": [
    {
     "data": {
      "text/plain": [
       "count    689.000000\n",
       "mean       3.586357\n",
       "std        1.350125\n",
       "min        1.000000\n",
       "25%        3.000000\n",
       "50%        3.000000\n",
       "75%        5.000000\n",
       "max        5.000000\n",
       "Name: Job Rate, dtype: float64"
      ]
     },
     "execution_count": 21,
     "metadata": {},
     "output_type": "execute_result"
    }
   ],
   "source": [
    "df['Job Rate'].describe()"
   ]
  },
  {
   "cell_type": "code",
   "execution_count": 22,
   "id": "3ec2632d",
   "metadata": {},
   "outputs": [
    {
     "data": {
      "text/html": [
       "<div>\n",
       "<style scoped>\n",
       "    .dataframe tbody tr th:only-of-type {\n",
       "        vertical-align: middle;\n",
       "    }\n",
       "\n",
       "    .dataframe tbody tr th {\n",
       "        vertical-align: top;\n",
       "    }\n",
       "\n",
       "    .dataframe thead th {\n",
       "        text-align: right;\n",
       "    }\n",
       "</style>\n",
       "<table border=\"1\" class=\"dataframe\">\n",
       "  <thead>\n",
       "    <tr style=\"text-align: right;\">\n",
       "      <th></th>\n",
       "      <th>No</th>\n",
       "      <th>First Name</th>\n",
       "      <th>Last Name</th>\n",
       "      <th>Gender</th>\n",
       "      <th>Start Date</th>\n",
       "      <th>Years</th>\n",
       "      <th>Department</th>\n",
       "      <th>Country</th>\n",
       "      <th>Center</th>\n",
       "      <th>Monthly Salary</th>\n",
       "      <th>Annual Salary</th>\n",
       "      <th>Job Rate</th>\n",
       "      <th>Sick Leaves</th>\n",
       "      <th>Unpaid Leaves</th>\n",
       "      <th>Overtime Hours</th>\n",
       "    </tr>\n",
       "  </thead>\n",
       "  <tbody>\n",
       "    <tr>\n",
       "      <th>0</th>\n",
       "      <td>1</td>\n",
       "      <td>Ghadir</td>\n",
       "      <td>Hmshw</td>\n",
       "      <td>Male</td>\n",
       "      <td>4/4/2018</td>\n",
       "      <td>7</td>\n",
       "      <td>Quality Control</td>\n",
       "      <td>Egypt</td>\n",
       "      <td>West</td>\n",
       "      <td>1560</td>\n",
       "      <td>18720</td>\n",
       "      <td>3.0</td>\n",
       "      <td>1</td>\n",
       "      <td>0</td>\n",
       "      <td>183</td>\n",
       "    </tr>\n",
       "    <tr>\n",
       "      <th>1</th>\n",
       "      <td>2</td>\n",
       "      <td>Omar</td>\n",
       "      <td>Hishan</td>\n",
       "      <td>Male</td>\n",
       "      <td>21/5/2020</td>\n",
       "      <td>5</td>\n",
       "      <td>Quality Control</td>\n",
       "      <td>Saudi Arabia</td>\n",
       "      <td>West</td>\n",
       "      <td>3247</td>\n",
       "      <td>38964</td>\n",
       "      <td>1.0</td>\n",
       "      <td>0</td>\n",
       "      <td>5</td>\n",
       "      <td>198</td>\n",
       "    </tr>\n",
       "    <tr>\n",
       "      <th>2</th>\n",
       "      <td>3</td>\n",
       "      <td>Ailya</td>\n",
       "      <td>Sharaf</td>\n",
       "      <td>Female</td>\n",
       "      <td>28/9/2017</td>\n",
       "      <td>7</td>\n",
       "      <td>Major Mfg Projects</td>\n",
       "      <td>Saudi Arabia</td>\n",
       "      <td>West</td>\n",
       "      <td>2506</td>\n",
       "      <td>30072</td>\n",
       "      <td>2.0</td>\n",
       "      <td>0</td>\n",
       "      <td>3</td>\n",
       "      <td>192</td>\n",
       "    </tr>\n",
       "    <tr>\n",
       "      <th>3</th>\n",
       "      <td>4</td>\n",
       "      <td>Lwiy</td>\n",
       "      <td>Qbany</td>\n",
       "      <td>Male</td>\n",
       "      <td>14/8/2018</td>\n",
       "      <td>7</td>\n",
       "      <td>Manufacturing</td>\n",
       "      <td>United Arab Emirates</td>\n",
       "      <td>Main</td>\n",
       "      <td>1828</td>\n",
       "      <td>21936</td>\n",
       "      <td>3.0</td>\n",
       "      <td>0</td>\n",
       "      <td>0</td>\n",
       "      <td>7</td>\n",
       "    </tr>\n",
       "    <tr>\n",
       "      <th>4</th>\n",
       "      <td>5</td>\n",
       "      <td>Ahmad</td>\n",
       "      <td>Bikri</td>\n",
       "      <td>Male</td>\n",
       "      <td>11/3/2020</td>\n",
       "      <td>5</td>\n",
       "      <td>Manufacturing</td>\n",
       "      <td>Egypt</td>\n",
       "      <td>Main</td>\n",
       "      <td>970</td>\n",
       "      <td>11640</td>\n",
       "      <td>5.0</td>\n",
       "      <td>0</td>\n",
       "      <td>5</td>\n",
       "      <td>121</td>\n",
       "    </tr>\n",
       "  </tbody>\n",
       "</table>\n",
       "</div>"
      ],
      "text/plain": [
       "   No First Name Last Name  Gender Start Date  Years          Department  \\\n",
       "0   1     Ghadir     Hmshw    Male   4/4/2018      7     Quality Control   \n",
       "1   2       Omar    Hishan    Male  21/5/2020      5     Quality Control   \n",
       "2   3      Ailya    Sharaf  Female  28/9/2017      7  Major Mfg Projects   \n",
       "3   4       Lwiy     Qbany    Male  14/8/2018      7       Manufacturing   \n",
       "4   5      Ahmad     Bikri    Male  11/3/2020      5       Manufacturing   \n",
       "\n",
       "                Country Center  Monthly Salary  Annual Salary  Job Rate  \\\n",
       "0                 Egypt   West            1560          18720       3.0   \n",
       "1          Saudi Arabia   West            3247          38964       1.0   \n",
       "2          Saudi Arabia   West            2506          30072       2.0   \n",
       "3  United Arab Emirates   Main            1828          21936       3.0   \n",
       "4                 Egypt   Main             970          11640       5.0   \n",
       "\n",
       "   Sick Leaves  Unpaid Leaves  Overtime Hours  \n",
       "0            1              0             183  \n",
       "1            0              5             198  \n",
       "2            0              3             192  \n",
       "3            0              0               7  \n",
       "4            0              5             121  "
      ]
     },
     "execution_count": 22,
     "metadata": {},
     "output_type": "execute_result"
    }
   ],
   "source": [
    "df.head()"
   ]
  },
  {
   "cell_type": "code",
   "execution_count": 24,
   "id": "c2860d6c",
   "metadata": {},
   "outputs": [
    {
     "data": {
      "text/plain": [
       "Department\n",
       "Human Resources                30670.285714\n",
       "Environmental Compliance       30097.846154\n",
       "Training                       28341.000000\n",
       "Facilities/Engineering         27423.310345\n",
       "Major Mfg Projects             26908.500000\n",
       "IT                             25374.300000\n",
       "Research/Development           25183.200000\n",
       "Quality Assurance              25007.104478\n",
       "Green Building                 24994.500000\n",
       "Marketing                      24733.500000\n",
       "Quality Control                24647.460674\n",
       "Professional Training Group    24485.142857\n",
       "Creative                       24135.789474\n",
       "Manufacturing                  24055.628571\n",
       "Environmental Health/Safety    24005.333333\n",
       "Product Development            23576.470588\n",
       "Sales                          23477.400000\n",
       "Account Management             23246.000000\n",
       "Manufacturing Admin            23052.000000\n",
       "Research Center                22644.000000\n",
       "Name: Annual Salary, dtype: float64"
      ]
     },
     "execution_count": 24,
     "metadata": {},
     "output_type": "execute_result"
    }
   ],
   "source": [
    "df.groupby('Department')['Annual Salary'].mean().sort_values(ascending=False)"
   ]
  },
  {
   "cell_type": "code",
   "execution_count": 26,
   "id": "da31e925",
   "metadata": {},
   "outputs": [
    {
     "data": {
      "image/png": "[encoded data removed]",
      "text/plain": [
       "<Figure size 640x480 with 1 Axes>"
      ]
     },
     "metadata": {},
     "output_type": "display_data"
    }
   ],
   "source": [
    "df.groupby('Department')['Annual Salary'].mean().sort_values(ascending=False).head(10).plot(kind='bar')\n",
    "plt.title(\"Average Salary by Department\")\n",
    "plt.xlabel(\"Department\")\n",
    "plt.ylabel(\"Average Salary\")\n",
    "plt.show()"
   ]
  },
  {
   "cell_type": "code",
   "execution_count": 28,
   "id": "b8faf25c",
   "metadata": {},
   "outputs": [
    {
     "data": {
      "text/plain": [
       "Center\n",
       "East     2274.021277\n",
       "West     2068.672269\n",
       "North    2064.811594\n",
       "Main     2054.776892\n",
       "South    1981.153846\n",
       "Name: Monthly Salary, dtype: float64"
      ]
     },
     "execution_count": 28,
     "metadata": {},
     "output_type": "execute_result"
    }
   ],
   "source": [
    "df.groupby('Center')['Monthly Salary'].mean().sort_values(ascending=False)"
   ]
  },
  {
   "cell_type": "code",
   "execution_count": 29,
   "id": "bbc30eee",
   "metadata": {},
   "outputs": [
    {
     "data": {
      "text/plain": [
       "array(['Egypt', 'Saudi Arabia', 'United Arab Emirates', 'Syria',\n",
       "       'Lebanon'], dtype=object)"
      ]
     },
     "execution_count": 29,
     "metadata": {},
     "output_type": "execute_result"
    }
   ],
   "source": [
    "df['Country'].unique()"
   ]
  },
  {
   "cell_type": "code",
   "execution_count": 30,
   "id": "15a8f784",
   "metadata": {},
   "outputs": [
    {
     "data": {
      "image/png": "[encoded data removed]",
      "text/plain": [
       "<Figure size 640x480 with 1 Axes>"
      ]
     },
     "metadata": {},
     "output_type": "display_data"
    }
   ],
   "source": [
    "df.groupby('Country')['Job Rate'].mean().sort_values(ascending=False).plot(kind='bar')\n",
    "plt.title(\"Job Rate by Countries\")\n",
    "plt.xlabel(\"Country\")\n",
    "plt.ylabel(\"Job Rate Average\")\n",
    "plt.show()"
   ]
  },
  {
   "cell_type": "code",
   "execution_count": 33,
   "id": "fbf92046",
   "metadata": {},
   "outputs": [
    {
     "data": {
      "image/png": "[encoded data removed]",
      "text/plain": [
       "<Figure size 640x480 with 1 Axes>"
      ]
     },
     "metadata": {},
     "output_type": "display_data"
    }
   ],
   "source": [
    "plt.hist(df['Overtime Hours'])\n",
    "plt.title(\"Histogram of Overtime Hours\")\n",
    "plt.xlabel(\"Overtime Hours\")\n",
    "plt.ylabel(\"Count\")\n",
    "plt.show()"
   ]
  },
  {
   "cell_type": "code",
   "execution_count": 34,
   "id": "6114fa5b",
   "metadata": {},
   "outputs": [
    {
     "data": {
      "text/plain": [
       "count    689.000000\n",
       "mean      13.702467\n",
       "std       25.692049\n",
       "min        0.000000\n",
       "25%        3.000000\n",
       "50%        7.000000\n",
       "75%       10.000000\n",
       "max      198.000000\n",
       "Name: Overtime Hours, dtype: float64"
      ]
     },
     "execution_count": 34,
     "metadata": {},
     "output_type": "execute_result"
    }
   ],
   "source": [
    "df['Overtime Hours'].describe()"
   ]
  },
  {
   "cell_type": "code",
   "execution_count": 35,
   "id": "5e4558fd",
   "metadata": {},
   "outputs": [
    {
     "data": {
      "text/plain": [
       "count      689.000000\n",
       "mean     24818.420900\n",
       "std       9159.470878\n",
       "min       8436.000000\n",
       "25%      17232.000000\n",
       "50%      24924.000000\n",
       "75%      32184.000000\n",
       "max      41400.000000\n",
       "Name: Annual Salary, dtype: float64"
      ]
     },
     "execution_count": 35,
     "metadata": {},
     "output_type": "execute_result"
    }
   ],
   "source": [
    "df['Annual Salary'].describe()"
   ]
  },
  {
   "cell_type": "code",
   "execution_count": 36,
   "id": "1ac791eb",
   "metadata": {},
   "outputs": [
    {
     "data": {
      "text/plain": [
       "Index(['No', 'First Name', 'Last Name', 'Gender', 'Start Date', 'Years',\n",
       "       'Department', 'Country', 'Center', 'Monthly Salary', 'Annual Salary',\n",
       "       'Job Rate', 'Sick Leaves', 'Unpaid Leaves', 'Overtime Hours'],\n",
       "      dtype='object')"
      ]
     },
     "execution_count": 36,
     "metadata": {},
     "output_type": "execute_result"
    }
   ],
   "source": [
    "df.columns"
   ]
  },
  {
   "cell_type": "code",
   "execution_count": 37,
   "id": "4fcb266e",
   "metadata": {},
   "outputs": [],
   "source": [
    "X = df[['Years','Job Rate']]\n",
    "y = df['Annual Salary']"
   ]
  },
  {
   "cell_type": "code",
   "execution_count": 39,
   "id": "1f53dd93",
   "metadata": {},
   "outputs": [],
   "source": [
    "from sklearn.model_selection import train_test_split\n",
    "\n",
    "X_train, X_test, y_train, y_test = train_test_split(X, y, test_size=0.2, random_state=42)"
   ]
  },
  {
   "cell_type": "code",
   "execution_count": 40,
   "id": "3ef19398",
   "metadata": {},
   "outputs": [],
   "source": [
    "from sklearn.linear_model import LinearRegression\n",
    "\n",
    "lr = LinearRegression()"
   ]
  },
  {
   "cell_type": "code",
   "execution_count": 41,
   "id": "c243b9c1",
   "metadata": {},
   "outputs": [
    {
     "data": {
      "text/html": [
       "<style>#sk-container-id-1 {color: black;}#sk-container-id-1 pre{padding: 0;}#sk-container-id-1 div.sk-toggleable {background-color: white;}#sk-container-id-1 label.sk-toggleable__label {cursor: pointer;display: block;width: 100%;margin-bottom: 0;padding: 0.3em;box-sizing: border-box;text-align: center;}#sk-container-id-1 label.sk-toggleable__label-arrow:before {content: \"▸\";float: left;margin-right: 0.25em;color: #696969;}#sk-container-id-1 label.sk-toggleable__label-arrow:hover:before {color: black;}#sk-container-id-1 div.sk-estimator:hover label.sk-toggleable__label-arrow:before {color: black;}#sk-container-id-1 div.sk-toggleable__content {max-height: 0;max-width: 0;overflow: hidden;text-align: left;background-color: #f0f8ff;}#sk-container-id-1 div.sk-toggleable__content pre {margin: 0.2em;color: black;border-radius: 0.25em;background-color: #f0f8ff;}#sk-container-id-1 input.sk-toggleable__control:checked~div.sk-toggleable__content {max-height: 200px;max-width: 100%;overflow: auto;}#sk-container-id-1 input.sk-toggleable__control:checked~label.sk-toggleable__label-arrow:before {content: \"▾\";}#sk-container-id-1 div.sk-estimator input.sk-toggleable__control:checked~label.sk-toggleable__label {background-color: #d4ebff;}#sk-container-id-1 div.sk-label input.sk-toggleable__control:checked~label.sk-toggleable__label {background-color: #d4ebff;}#sk-container-id-1 input.sk-hidden--visually {border: 0;clip: rect(1px 1px 1px 1px);clip: rect(1px, 1px, 1px, 1px);height: 1px;margin: -1px;overflow: hidden;padding: 0;position: absolute;width: 1px;}#sk-container-id-1 div.sk-estimator {font-family: monospace;background-color: #f0f8ff;border: 1px dotted black;border-radius: 0.25em;box-sizing: border-box;margin-bottom: 0.5em;}#sk-container-id-1 div.sk-estimator:hover {background-color: #d4ebff;}#sk-container-id-1 div.sk-parallel-item::after {content: \"\";width: 100%;border-bottom: 1px solid gray;flex-grow: 1;}#sk-container-id-1 div.sk-label:hover label.sk-toggleable__label {background-color: #d4ebff;}#sk-container-id-1 div.sk-serial::before {content: \"\";position: absolute;border-left: 1px solid gray;box-sizing: border-box;top: 0;bottom: 0;left: 50%;z-index: 0;}#sk-container-id-1 div.sk-serial {display: flex;flex-direction: column;align-items: center;background-color: white;padding-right: 0.2em;padding-left: 0.2em;position: relative;}#sk-container-id-1 div.sk-item {position: relative;z-index: 1;}#sk-container-id-1 div.sk-parallel {display: flex;align-items: stretch;justify-content: center;background-color: white;position: relative;}#sk-container-id-1 div.sk-item::before, #sk-container-id-1 div.sk-parallel-item::before {content: \"\";position: absolute;border-left: 1px solid gray;box-sizing: border-box;top: 0;bottom: 0;left: 50%;z-index: -1;}#sk-container-id-1 div.sk-parallel-item {display: flex;flex-direction: column;z-index: 1;position: relative;background-color: white;}#sk-container-id-1 div.sk-parallel-item:first-child::after {align-self: flex-end;width: 50%;}#sk-container-id-1 div.sk-parallel-item:last-child::after {align-self: flex-start;width: 50%;}#sk-container-id-1 div.sk-parallel-item:only-child::after {width: 0;}#sk-container-id-1 div.sk-dashed-wrapped {border: 1px dashed gray;margin: 0 0.4em 0.5em 0.4em;box-sizing: border-box;padding-bottom: 0.4em;background-color: white;}#sk-container-id-1 div.sk-label label {font-family: monospace;font-weight: bold;display: inline-block;line-height: 1.2em;}#sk-container-id-1 div.sk-label-container {text-align: center;}#sk-container-id-1 div.sk-container {/* jupyter's `normalize.less` sets `[hidden] { display: none; }` but bootstrap.min.css set `[hidden] { display: none !important; }` so we also need the `!important` here to be able to override the default hidden behavior on the sphinx rendered scikit-learn.org. See: https://github.com/scikit-learn/scikit-learn/issues/21755 */display: inline-block !important;position: relative;}#sk-container-id-1 div.sk-text-repr-fallback {display: none;}</style><div id=\"sk-container-id-1\" class=\"sk-top-container\"><div class=\"sk-text-repr-fallback\"><pre>LinearRegression()</pre><b>In a Jupyter environment, please rerun this cell to show the HTML representation or trust the notebook. <br />On GitHub, the HTML representation is unable to render, please try loading this page with nbviewer.org.</b></div><div class=\"sk-container\" hidden><div class=\"sk-item\"><div class=\"sk-estimator sk-toggleable\"><input class=\"sk-toggleable__control sk-hidden--visually\" id=\"sk-estimator-id-1\" type=\"checkbox\" checked><label for=\"sk-estimator-id-1\" class=\"sk-toggleable__label sk-toggleable__label-arrow\">LinearRegression</label><div class=\"sk-toggleable__content\"><pre>LinearRegression()</pre></div></div></div></div></div>"
      ],
      "text/plain": [
       "LinearRegression()"
      ]
     },
     "execution_count": 41,
     "metadata": {},
     "output_type": "execute_result"
    }
   ],
   "source": [
    "lr.fit(X_train, y_train)"
   ]
  },
  {
   "cell_type": "code",
   "execution_count": 42,
   "id": "5b4e6cd6",
   "metadata": {},
   "outputs": [],
   "source": [
    "y_pred = lr.predict(X_test)"
   ]
  },
  {
   "cell_type": "code",
   "execution_count": 43,
   "id": "421b6570",
   "metadata": {},
   "outputs": [
    {
     "data": {
      "text/plain": [
       "8311.590780081311"
      ]
     },
     "execution_count": 43,
     "metadata": {},
     "output_type": "execute_result"
    }
   ],
   "source": [
    "from sklearn.metrics import mean_absolute_error\n",
    "\n",
    "mean_absolute_error(y_test, y_pred)"
   ]
  },
  {
   "cell_type": "code",
   "execution_count": 44,
   "id": "de14af8a",
   "metadata": {},
   "outputs": [
    {
     "data": {
      "text/plain": [
       "['salary_prediction_model.pkl']"
      ]
     },
     "execution_count": 44,
     "metadata": {},
     "output_type": "execute_result"
    }
   ],
   "source": [
    "import joblib\n",
    "\n",
    "joblib.dump(lr, 'salary_prediction_model.pkl')"
   ]
  },
  {
   "cell_type": "code",
   "execution_count": null,
   "id": "4c3f621d",
   "metadata": {},
   "outputs": [],
   "source": []
  }
 ],
 "metadata": {
  "kernelspec": {
   "display_name": "Python 3",
   "language": "python",
   "name": "python3"
  },
  "language_info": {
   "codemirror_mode": {
    "name": "ipython",
    "version": 3
   },
   "file_extension": ".py",
   "mimetype": "text/x-python",
   "name": "python",
   "nbconvert_exporter": "python",
   "pygments_lexer": "ipython3",
   "version": "3.10.10"
  }
 },
 "nbformat": 4,
 "nbformat_minor": 5
}
